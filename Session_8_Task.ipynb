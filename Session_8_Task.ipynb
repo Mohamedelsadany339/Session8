{
 "cells": [
  {
   "cell_type": "markdown",
   "metadata": {
    "id": "WXlbUxtfPjDz"
   },
   "source": [
    "# Problem 1\n",
    "Print every other letter in string s in uppercase,  such that output is \"DNSU\"."
   ]
  },
  {
   "cell_type": "code",
   "execution_count": 2,
   "metadata": {
    "id": "FMPzGNRgUZVD"
   },
   "outputs": [
    {
     "name": "stdout",
     "output_type": "stream",
     "text": [
      "DINOSAUR\n",
      "DNSU\n"
     ]
    }
   ],
   "source": [
    "s = \"dinosaur\"\n",
    "s=s.upper()\n",
    "print(s)\n",
    "s=s[0]+s[2]+s[4]+s[6]\n",
    "print(s)\n"
   ]
  },
  {
   "cell_type": "markdown",
   "metadata": {
    "id": "qOhBTTD0UvTf"
   },
   "source": [
    "# Problem 2\n",
    "Reverse the following word, by using 2 different ways."
   ]
  },
  {
   "cell_type": "code",
   "execution_count": 5,
   "metadata": {
    "id": "7TpyBov-VWmg"
   },
   "outputs": [
    {
     "name": "stdout",
     "output_type": "stream",
     "text": [
      "koobypoc\n"
     ]
    }
   ],
   "source": [
    "word = \"copybook\"\n",
    "word=word[::-1]\n",
    "print(word)\n",
    "\n"
   ]
  },
  {
   "cell_type": "markdown",
   "metadata": {
    "id": "DrE-mywXSCFH"
   },
   "source": [
    "# Problem 3\n",
    "Input your name and age, and assign them to variables.\n",
    "Then, print the following statement using 3 String Formatting techniques.\n",
    "\n",
    "My name is (your name) and I am (your age)."
   ]
  },
  {
   "cell_type": "code",
   "execution_count": 13,
   "metadata": {
    "id": "07rSs1_fM-hY"
   },
   "outputs": [
    {
     "name": "stdout",
     "output_type": "stream",
     "text": [
      "My name is Mohamed and my age is 18.\n",
      "My name is Mohamed and my age is 18.\n",
      "My name is Mohamed and my age is 18.\n"
     ]
    }
   ],
   "source": [
    "My_Name=\"Mohamed\"\n",
    "My_Age=18\n",
    "print(\"My name is %s and my age is %d.\"%(My_Name,My_Age))\n",
    "print(\"My name is {0} and my age is {1}.\".format (My_Name,My_Age))\n",
    "print(f\"My name is {My_Name} and my age is {My_Age}.\")"
   ]
  },
  {
   "cell_type": "markdown",
   "metadata": {
    "id": "ca_41R91S-S7"
   },
   "source": [
    "# Problem 4\n",
    "Print each of the fruits on its own, using a string method.\n"
   ]
  },
  {
   "cell_type": "code",
   "execution_count": 24,
   "metadata": {
    "id": "TfkJrDgiL760"
   },
   "outputs": [
    {
     "name": "stdout",
     "output_type": "stream",
     "text": [
      "['apple', 'banana', 'cherry', 'orange']\n",
      "apple\n",
      "banana\n",
      "cherry\n",
      "orange\n"
     ]
    }
   ],
   "source": [
    "txt = \"apple#banana#cherry#orange\"\n",
    "txt=txt.split(\"#\")\n",
    "print(txt)\n",
    "print(txt[0])\n",
    "print(txt[1])\n",
    "print(txt[2])\n",
    "print(txt[3])\n"
   ]
  },
  {
   "cell_type": "markdown",
   "metadata": {
    "id": "28Ed1nDxNMgI"
   },
   "source": [
    "# Problem 4\n",
    "Print each of the fruits on its own."
   ]
  },
  {
   "cell_type": "code",
   "execution_count": 26,
   "metadata": {
    "id": "GT7u6ePGNMgK"
   },
   "outputs": [
    {
     "name": "stdout",
     "output_type": "stream",
     "text": [
      "apple\n",
      "banana\n",
      "cherry\n",
      "orange\n"
     ]
    }
   ],
   "source": [
    "txt = \"apple#banana#cherry#orange\"\n",
    "txt=txt.split(\"#\")\n",
    "print(txt[0])\n",
    "print(txt[1])\n",
    "print(txt[2])\n",
    "print(txt[3])\n",
    "\n"
   ]
  },
  {
   "cell_type": "markdown",
   "metadata": {
    "id": "ZVpVpCHHUO1o"
   },
   "source": [
    "# Problem 5\n",
    "Print even numbers from 0 to 20, using while loop."
   ]
  },
  {
   "cell_type": "code",
   "execution_count": 28,
   "metadata": {
    "id": "o-EYxm3ES9Ry"
   },
   "outputs": [
    {
     "name": "stdout",
     "output_type": "stream",
     "text": [
      "2\n",
      "4\n",
      "6\n",
      "8\n",
      "10\n",
      "12\n",
      "14\n",
      "16\n",
      "18\n",
      "20\n"
     ]
    }
   ],
   "source": [
    "i=0\n",
    "while i in range(20):\n",
    "    i=i+2\n",
    "    print(i)\n",
    "    \n"
   ]
  },
  {
   "cell_type": "markdown",
   "metadata": {
    "id": "poHwqfvkSA89"
   },
   "source": [
    "# Problem 6\n",
    "Print the prime numbers less than 100, using for loop."
   ]
  },
  {
   "cell_type": "code",
   "execution_count": 3,
   "metadata": {
    "id": "50-Gxo0XU--W"
   },
   "outputs": [],
   "source": []
  },
  {
   "cell_type": "markdown",
   "metadata": {
    "id": "AroVqTOYYu66"
   },
   "source": [
    "# Problem 7\n",
    "Print the square of each number in the list, using list comprehension."
   ]
  },
  {
   "cell_type": "code",
   "execution_count": 29,
   "metadata": {
    "id": "m6mJuDM_ZIbY"
   },
   "outputs": [
    {
     "name": "stdout",
     "output_type": "stream",
     "text": [
      "[1, 4, 9, 16, 25, 36, 49, 64, 81, 100]\n"
     ]
    }
   ],
   "source": [
    "l = [1, 2, 3, 4, 5, 6, 7, 8, 9, 10]\n",
    "l2=[]\n",
    "for i in l:\n",
    "    z=i**2\n",
    "    l2.append(z)\n",
    "print(l2)\n"
   ]
  },
  {
   "cell_type": "markdown",
   "metadata": {
    "id": "ApiSixoZZg25"
   },
   "source": [
    "#Problem 8\n",
    "Check that the values 20 and 35 exist in my_dict. "
   ]
  },
  {
   "cell_type": "code",
   "execution_count": 33,
   "metadata": {
    "id": "-q7oDKtgaJqp"
   },
   "outputs": [
    {
     "name": "stdout",
     "output_type": "stream",
     "text": [
      "35 is not exist\n",
      "20 is exist\n"
     ]
    }
   ],
   "source": [
    "my_dict = {'a': 10, 'b': 20, 'c': 30, 'd': 40}\n",
    "my_dict=my_dict.values()\n",
    "for i in my_dict:\n",
    "    int(i)\n",
    "    if i==20:\n",
    "        print(\"20 is exist\")\n",
    "        break\n",
    "    elif i==35:\n",
    "        print(\"35 is exist\")\n",
    "        break\n",
    "    else:\n",
    "        print(\"35 is not exist\")\n",
    "\n",
    "\n"
   ]
  },
  {
   "cell_type": "markdown",
   "metadata": {
    "id": "qzgbeJJRbuAb"
   },
   "source": [
    "# Problem 9\n",
    "Print the common subjects that both Ahmed and Mohamed take."
   ]
  },
  {
   "cell_type": "code",
   "execution_count": 30,
   "metadata": {
    "id": "i_M4Pln3btIP"
   },
   "outputs": [
    {
     "name": "stdout",
     "output_type": "stream",
     "text": [
      "{'French', 'Math', 'CS'}\n"
     ]
    }
   ],
   "source": [
    "Ahmed_subjects = {\"Math\", \"Physics\", \"English\", \"French\", \"CS\" }\n",
    "Mohamed_subjects = {\"Enivronmental Science\", \"CS\", \"German\", \"French\", \"Photography\" , \"Math\"}\n",
    "print(Ahmed_subjects.intersection(Mohamed_subjects))"
   ]
  },
  {
   "cell_type": "markdown",
   "metadata": {
    "id": "tGLp3uEOcv6o"
   },
   "source": [
    "# Problem 10\n",
    "A school has following rules for grading system:\n",
    "1. Below 25 - F\n",
    "2. 25 to 45 - E\n",
    "3. 45 to 50 - D\n",
    "4. 50 to 60 - C\n",
    "5. 60 to 80 - B\n",
    "6. Above 80 - A\n",
    "\n",
    "Ask user to enter marks and print the corresponding grade."
   ]
  },
  {
   "cell_type": "code",
   "execution_count": 8,
   "metadata": {
    "id": "3ufpAlcCNstm"
   },
   "outputs": [
    {
     "name": "stdout",
     "output_type": "stream",
     "text": [
      "Please input your Mark43\n",
      "E\n"
     ]
    }
   ],
   "source": [
    "My_Mark=float(input(\"Please input your Mark: \"))\n",
    "if My_Mark >= 80:\n",
    "    print(\"A\")\n",
    "elif My_Mark >=60:\n",
    "    print(\"B\")\n",
    "elif My_Mark>=50:\n",
    "    print(\"c\")\n",
    "elif My_Mark>=45:\n",
    "    print(\"D\")\n",
    "elif My_Mark>=25:\n",
    "    print(\"E\")\n",
    "else:\n",
    "    print(\"F\")\n",
    "    "
   ]
  },
  {
   "cell_type": "markdown",
   "metadata": {
    "id": "6p6DgBvEfEdt"
   },
   "source": [
    "# Problem 11\n",
    "Remove all elements in the set.\n",
    "Then add the color \"red\" to the following color_set.\n",
    "Then add the colors \"green\" and \"blue\" in a single line of code."
   ]
  },
  {
   "cell_type": "code",
   "execution_count": 36,
   "metadata": {
    "id": "nZRd7gvbCm55"
   },
   "outputs": [
    {
     "name": "stdout",
     "output_type": "stream",
     "text": [
      "{'green', 'red'}\n"
     ]
    }
   ],
   "source": [
    "color_set = set([\"orange\", \"yellow\", \"green\"])\n",
    "color_set.clear()\n",
    "color_set.update({\"red\",\"green\"})\n",
    "print(color_set)\n"
   ]
  },
  {
   "cell_type": "markdown",
   "metadata": {
    "id": "7ki24gYPDPjU"
   },
   "source": [
    "# Problem 12\n",
    "Change the first element in  my_tuple to [10, 11, 12]"
   ]
  },
  {
   "cell_type": "code",
   "execution_count": 55,
   "metadata": {
    "id": "qwxJ8a60Dyy5"
   },
   "outputs": [
    {
     "name": "stdout",
     "output_type": "stream",
     "text": [
      "([10, 11, 12], [4, 5, 6], [7, 8, 9])\n"
     ]
    }
   ],
   "source": [
    "my_tuple = ([1, 2, 3], [4, 5, 6], [7, 8, 9])\n",
    "my_tuple=([10,11,12],)+my_tuple[1::]\n",
    "print(my_tuple)\n",
    "\n"
   ]
  },
  {
   "cell_type": "markdown",
   "metadata": {
    "id": "DqqfH9MMGNya"
   },
   "source": [
    "# Problem 13\n",
    "Fix the following error."
   ]
  },
  {
   "cell_type": "code",
   "execution_count": 34,
   "metadata": {
    "colab": {
     "base_uri": "https://localhost:8080/",
     "height": 183
    },
    "id": "6GtuqRe7Ja4C",
    "outputId": "690bd11d-91d9-4c4d-9390-7f2710a33636"
   },
   "outputs": [
    {
     "data": {
      "text/plain": [
       "{'80': [1, 2], '90': [3, 4]}"
      ]
     },
     "execution_count": 34,
     "metadata": {},
     "output_type": "execute_result"
    }
   ],
   "source": [
    "dict2 = {\"80\":[1, 2],\"90\":[3, 4]}\n",
    "dict2"
   ]
  },
  {
   "cell_type": "code",
   "execution_count": null,
   "metadata": {},
   "outputs": [],
   "source": []
  }
 ],
 "metadata": {
  "colab": {
   "provenance": []
  },
  "kernelspec": {
   "display_name": "Python 3 (ipykernel)",
   "language": "python",
   "name": "python3"
  },
  "language_info": {
   "codemirror_mode": {
    "name": "ipython",
    "version": 3
   },
   "file_extension": ".py",
   "mimetype": "text/x-python",
   "name": "python",
   "nbconvert_exporter": "python",
   "pygments_lexer": "ipython3",
   "version": "3.9.13"
  }
 },
 "nbformat": 4,
 "nbformat_minor": 1
}
