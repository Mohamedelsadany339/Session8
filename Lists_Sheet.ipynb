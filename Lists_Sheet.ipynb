{
 "cells": [
  {
   "cell_type": "markdown",
   "metadata": {
    "id": "cJLv3PJts11S"
   },
   "source": [
    "#Problem 1\n",
    "Swap the first and last elements of fruits."
   ]
  },
  {
   "cell_type": "code",
   "execution_count": 9,
   "metadata": {
    "id": "FuvqPx-7s454"
   },
   "outputs": [
    {
     "name": "stdout",
     "output_type": "stream",
     "text": [
      "['oranges', 'grapes', 'berries']\n"
     ]
    }
   ],
   "source": [
    "fruits = [\"apples\", \"oranges\", \"grapes\", \"berries\", \"kiwi\"]\n",
    "fruits.pop(0)\n",
    "fruits.pop(len(fruits)-1)\n",
    "\n",
    "print(fruits)\n"
   ]
  },
  {
   "cell_type": "markdown",
   "metadata": {
    "id": "6_KTLAJ8s597"
   },
   "source": [
    "#Problem 2\n",
    "This is a list of the grades of 10 students in a class.\n",
    "##a)\n",
    "Use a list method to print the number of students, who received a grade of 90.\n",
    "##b)\n",
    "Then find the index of the first occurence of 90."
   ]
  },
  {
   "cell_type": "code",
   "execution_count": 11,
   "metadata": {
    "id": "EMOPNV1Es6Hj"
   },
   "outputs": [
    {
     "name": "stdout",
     "output_type": "stream",
     "text": [
      "3\n",
      "1\n"
     ]
    }
   ],
   "source": [
    "students_grades = [85, 90, 100, 70, 50, 80, 90, 95, 90, 75]\n",
    "print(students_grades.count(90))\n",
    "print(students_grades.index(90))\n"
   ]
  },
  {
   "cell_type": "markdown",
   "metadata": {
    "id": "rVEq_7Jbs6Sg"
   },
   "source": [
    "#Problem 3\n",
    "Use list slicing to print the word \"apple\"."
   ]
  },
  {
   "cell_type": "code",
   "execution_count": 14,
   "metadata": {
    "id": "-hVPCWOps6dD"
   },
   "outputs": [
    {
     "name": "stdout",
     "output_type": "stream",
     "text": [
      "apple\n"
     ]
    }
   ],
   "source": [
    "word = ['p', 's', 'a', 'q', 'p', 'p', 'x', 'l', 'e']\n",
    "new_word=word[word.index('a')]+word[word.index('p')]+word[word.index('p')]+word[word.index('l')]+word[word.index('e')]\n",
    "print(new_word)"
   ]
  },
  {
   "cell_type": "markdown",
   "metadata": {
    "id": "M848KfJYs6l5"
   },
   "source": [
    "#Problem 4\n",
    "Make a copy of names into another list names2.\n",
    "How is this different from typing \n",
    "`names2 = names`?"
   ]
  },
  {
   "cell_type": "code",
   "execution_count": 21,
   "metadata": {
    "colab": {
     "base_uri": "https://localhost:8080/"
    },
    "id": "ivcoRt7Qs6uC",
    "outputId": "cd44e8c1-aa51-4682-dcf6-9e32d932f814"
   },
   "outputs": [
    {
     "name": "stdout",
     "output_type": "stream",
     "text": [
      "['Ahmed', 'Mohamed', 'Ali', 'Omar', 'Khaled']\n"
     ]
    }
   ],
   "source": [
    "names = [\"Ahmed\", \"Mohamed\", \"Ali\", \"Omar\", \"Khaled\"]\n",
    "name2=names[:]\n",
    "print(name2)\n",
    "\n"
   ]
  },
  {
   "cell_type": "markdown",
   "metadata": {
    "id": "hRVsExV1s62I"
   },
   "source": [
    "#Problem 5\n",
    "Insert the number 7000 between the number 5000 and 6000."
   ]
  },
  {
   "cell_type": "code",
   "execution_count": 34,
   "metadata": {
    "id": "_deklWCYs68B"
   },
   "outputs": [
    {
     "name": "stdout",
     "output_type": "stream",
     "text": [
      "[10, 20, [300, 400, [5000, 7000, 6000], 500], 30, 40]\n"
     ]
    }
   ],
   "source": [
    "l = [10, 20, [300, 400, [5000, 6000], 500], 30, 40]\n",
    "l[2][2].insert(1,7000)\n",
    "print(l)"
   ]
  },
  {
   "cell_type": "markdown",
   "metadata": {
    "id": "gbtBcaTjznnp"
   },
   "source": [
    "#Problem 6\n",
    "Print the list in reverse using index slicing."
   ]
  },
  {
   "cell_type": "code",
   "execution_count": 43,
   "metadata": {
    "id": "xVOEfMyr0uwq"
   },
   "outputs": [
    {
     "name": "stdout",
     "output_type": "stream",
     "text": [
      "[5, 6, 7, 8, 9, 10]\n"
     ]
    }
   ],
   "source": [
    "l2 = [10, 9, 8, 7, 6, 5]\n",
    "l2=l2[::-1]\n",
    "print(l2)\n"
   ]
  },
  {
   "cell_type": "markdown",
   "metadata": {
    "id": "dJ76aTxL65Io"
   },
   "source": [
    "#Problem 7\n",
    "Create a list l4, in which each element is 10 times the corresponding element in list l3."
   ]
  },
  {
   "cell_type": "code",
   "execution_count": 2,
   "metadata": {
    "id": "9m8IoMfL7Dct"
   },
   "outputs": [
    {
     "name": "stdout",
     "output_type": "stream",
     "text": [
      "[20, 30, 10, 30, 30, 10, 20, 10, 10, 10]\n"
     ]
    }
   ],
   "source": [
    "l3 = [1, 2, 3, 2, 2, 4, 1, 8, 9, 7]\n",
    "l4=[]\n",
    "for i in l3:\n",
    "    c=l3.count(i)\n",
    "    z=c*10\n",
    "    l4.append(z)\n",
    "print(l4)"
   ]
  },
  {
   "cell_type": "markdown",
   "metadata": {
    "id": "rAjRF4mY801R"
   },
   "source": [
    "#Problem 8\n",
    "Remove elements 'g', 'h', 'i', 'j' from letters."
   ]
  },
  {
   "cell_type": "code",
   "execution_count": 60,
   "metadata": {
    "colab": {
     "base_uri": "https://localhost:8080/"
    },
    "id": "LGDgq1UG9D5p",
    "outputId": "66e05626-3233-48f0-e3ae-3185d8214e58"
   },
   "outputs": [
    {
     "name": "stdout",
     "output_type": "stream",
     "text": [
      "['a', 'b', 'c', 'd', 'e', 'f', 'k', 'l', 'm', 'n']\n"
     ]
    }
   ],
   "source": [
    "letters = ['a', 'b', 'c', 'd', 'e', 'f', 'g', 'h', 'i', 'j', 'k', 'l', 'm', 'n']\n",
    "letters.remove('g')\n",
    "letters.remove('h')\n",
    "letters.remove('i')\n",
    "letters.remove('j')\n",
    "print(letters)\n"
   ]
  },
  {
   "cell_type": "code",
   "execution_count": null,
   "metadata": {},
   "outputs": [],
   "source": []
  }
 ],
 "metadata": {
  "colab": {
   "provenance": []
  },
  "kernelspec": {
   "display_name": "Python 3 (ipykernel)",
   "language": "python",
   "name": "python3"
  },
  "language_info": {
   "codemirror_mode": {
    "name": "ipython",
    "version": 3
   },
   "file_extension": ".py",
   "mimetype": "text/x-python",
   "name": "python",
   "nbconvert_exporter": "python",
   "pygments_lexer": "ipython3",
   "version": "3.9.13"
  }
 },
 "nbformat": 4,
 "nbformat_minor": 1
}
